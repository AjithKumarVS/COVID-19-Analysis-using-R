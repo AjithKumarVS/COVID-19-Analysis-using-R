{
 "cells": [
  {
   "cell_type": "code",
   "execution_count": null,
   "metadata": {},
   "outputs": [],
   "source": [
    "\n"
   ]
  },
  {
   "cell_type": "code",
   "execution_count": 7,
   "metadata": {},
   "outputs": [
    {
     "data": {
      "image/png": "[encoded data removed]",
      "text/plain": [
       "plot without title"
      ]
     },
     "metadata": {},
     "output_type": "display_data"
    }
   ],
   "source": [
    "library(\"readxl\")\n",
    "library(\"ggplot2\")\n",
    "ForeignEx <- read_excel(\"C:/Users/avakk/Downloads/DEXINUS.xls\")\n",
    "names(ForeignEx)<-c(\"Observations\",\"Value\")\n",
    "ForeignEx<-ForeignEx[-c(1:10),]\n",
    "TimePeriod<- seq(from = as.Date(\"2019-11-15\"), to = as.Date(\"2020-03-13\"), by = 'day')\n",
    "TimePeriod<-TimePeriod[-c(2,3,9,10,14,16,17,23,24,30,31,37,38,41,44,45,\n",
    "                          48,51,52,58,59,65,66,67,72,73,79,80,86,87,93,\n",
    "                          94,95,100,101,107,108,114,115)]\n",
    "ForeignEx<-ForeignEx[ForeignEx$Value!=0,]\n",
    "ForeignEx<-cbind(TimePeriod,ForeignEx)\n",
    "\n",
    "ForeignEx$Value <- as.numeric(ForeignEx$Value)\n",
    "ForeignEx$Value<-unlist(lapply(ForeignEx$Value, round, 3))\n",
    "options(repr.plot.width=8, repr.plot.height=3)\n",
    "currencyplot<-ggplot(ForeignEx,aes(ForeignEx$TimePeriod,ForeignEx$Value))+geom_point(color=\"red\")\n",
    "currencyplot+geom_vline(xintercept = as.Date(\"2019-12-30\"),color=\"blue\")\n"
   ]
  },
  {
   "cell_type": "code",
   "execution_count": null,
   "metadata": {},
   "outputs": [],
   "source": []
  }
 ],
 "metadata": {
  "kernelspec": {
   "display_name": "R",
   "language": "R",
   "name": "ir"
  },
  "language_info": {
   "codemirror_mode": "r",
   "file_extension": ".r",
   "mimetype": "text/x-r-source",
   "name": "R",
   "pygments_lexer": "r",
   "version": "3.6.1"
  }
 },
 "nbformat": 4,
 "nbformat_minor": 2
}
